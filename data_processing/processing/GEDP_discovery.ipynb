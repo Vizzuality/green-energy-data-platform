{
 "cells": [
  {
   "cell_type": "markdown",
   "metadata": {},
   "source": [
    "## Green Energy Data Platform - Metadata Discovery"
   ]
  },
  {
   "cell_type": "code",
   "execution_count": null,
   "metadata": {},
   "outputs": [],
   "source": []
  },
  {
   "cell_type": "code",
   "execution_count": 81,
   "metadata": {},
   "outputs": [],
   "source": [
    "import pandas as pd\n",
    "import numpy as np"
   ]
  },
  {
   "cell_type": "code",
   "execution_count": 409,
   "metadata": {},
   "outputs": [],
   "source": [
    "metadata = pd.read_excel('/Users/oscaresbri/Desktop/China data_Wangqingyi_template_table1-40(1).xlsx', 'English').fillna(0)"
   ]
  },
  {
   "cell_type": "code",
   "execution_count": 410,
   "metadata": {},
   "outputs": [],
   "source": [
    "metadata=metadata[['Category/按照王老的分类', 'Table Name', 'Variable', 'Unit', 'Definition']].rename(columns={'Category/按照王老的分类':'Category'})"
   ]
  },
  {
   "cell_type": "code",
   "execution_count": 411,
   "metadata": {},
   "outputs": [],
   "source": [
    "metadata['new_var'] = None\n",
    "metadata['cat'] = None\n",
    "metadata['sub_cat'] = None\n",
    "metadata['sub_sub_cat'] = None"
   ]
  },
  {
   "cell_type": "code",
   "execution_count": 412,
   "metadata": {},
   "outputs": [],
   "source": [
    "metadata['Table Name'] = metadata['Table Name'].replace({'(ranking)':0, 'repeat':0})"
   ]
  },
  {
   "cell_type": "code",
   "execution_count": 413,
   "metadata": {},
   "outputs": [],
   "source": [
    "for row in metadata.index:\n",
    "    if metadata['Table Name'][row] != 0:\n",
    "        table_name = metadata['Table Name'][row]\n",
    "    else:\n",
    "        metadata['Table Name'][row]=table_name\n",
    "    try:\n",
    "        var_breaks = metadata['Variable'][row].split(\"|\")\n",
    "        metadata['new_var'][row] = var_breaks[0]\n",
    "        metadata['cat'][row] = var_breaks[1]\n",
    "        if len(metadata['Variable'][row].split(\"|\")) ==3:\n",
    "            metadata['sub_cat'][row] = var_breaks[2]\n",
    "        if len(metadata['Variable'][row].split(\"|\")) ==4:\n",
    "            metadata['sub_cat'][row] = var_breaks[2]\n",
    "            metadata['sub_sub_cat'][row] = var_breaks[3]\n",
    "        if len(metadata['Variable'][row].split(\"|\")) >4:\n",
    "            print('variable breakdown greater than measured', len(var_breaks))\n",
    "    except:\n",
    "            try:\n",
    "                var_breaks = metadata['Variable'][row].split(\"/\")\n",
    "                metadata['new_var'][row] = var_breaks[0]\n",
    "                metadata['cat'][row] = var_breaks[1]\n",
    "                if len(metadata['Variable'][row].split(\"/\")) ==3:\n",
    "                    metadata['sub_cat'][row] = var_breaks[2]\n",
    "                if len(metadata['Variable'][row].split(\"/\")) ==4:\n",
    "                    metadata['sub_cat'][row] = var_breaks[2]\n",
    "                    metadata['sub_sub_cat'][row] = var_breaks[3]\n",
    "                if len(metadata['Variable'][row].split(\"/\")) >4:\n",
    "                    print('variable breakdown greater than measured', len(var_breaks))\n",
    "            except:\n",
    "                metadata['new_var'][row] = metadata['Variable'][row]"
   ]
  },
  {
   "cell_type": "code",
   "execution_count": 414,
   "metadata": {},
   "outputs": [],
   "source": [
    "metadata = metadata.loc[metadata['Category']!=0]\n",
    "metadata = metadata[['Category', 'Table Name', 'new_var', 'cat', 'sub_cat', 'sub_sub_cat']]"
   ]
  },
  {
   "cell_type": "code",
   "execution_count": 434,
   "metadata": {},
   "outputs": [],
   "source": [
    "cat_group = pd.DataFrame(metadata.groupby(by=['Category', 'Table Name', 'new_var'])['cat'].apply(list)).reset_index()\n",
    "cat_group = cat_group.loc[cat_group['cat']!='[]']\n",
    "subcat_group = pd.DataFrame(metadata.groupby(by=['Category', 'Table Name', 'new_var'])['sub_cat'].apply(list)).reset_index()\n",
    "subcat_group = subcat_group.loc[subcat_group['sub_cat']!='[]']\n",
    "subsubcat_group = pd.DataFrame(metadata.groupby(by=['Category', 'Table Name', 'new_var'])['sub_sub_cat'].apply(list)).reset_index()\n",
    "subsubcat_group = subsubcat_group.loc[subsubcat_group['sub_sub_cat']!='[]']"
   ]
  },
  {
   "cell_type": "code",
   "execution_count": 416,
   "metadata": {},
   "outputs": [
    {
     "data": {
      "text/plain": [
       "[None]"
      ]
     },
     "execution_count": 416,
     "metadata": {},
     "output_type": "execute_result"
    }
   ],
   "source": [
    "list(dict.fromkeys(subcat_group['sub_cat'][10]))"
   ]
  },
  {
   "cell_type": "code",
   "execution_count": 426,
   "metadata": {},
   "outputs": [],
   "source": [
    "cat_group['sub_cat']=None\n",
    "cat_group['sub_sub_cat']=None\n",
    "\n",
    "for row in subcat_group.index:\n",
    "    if len(list(dict.fromkeys(subcat_group['sub_cat'][row]))) >= 1 and list(dict.fromkeys(subcat_group['sub_cat'][row]))[0] !=None:\n",
    "        table = subcat_group['Table Name'][row]\n",
    "        var = subcat_group['new_var'][row]\n",
    "        subcat = str(subcat_group['sub_cat'][row])\n",
    "        cat_group.loc[(cat_group['Table Name']==table)&(cat_group['new_var']==var), 'sub_cat']=subcat\n",
    "\n",
    "for row in subsubcat_group.index:\n",
    "    if len(list(dict.fromkeys(subsubcat_group['sub_sub_cat'][row]))) >= 1 and list(dict.fromkeys(subsubcat_group['sub_sub_cat'][row]))[0] !=None:\n",
    "        table = subsubcat_group['Table Name'][row]\n",
    "        var = subsubcat_group['new_var'][row]\n",
    "        subcat = str(subsubcat_group['sub_sub_cat'][row])\n",
    "        cat_group.loc[(cat_group['Table Name']==table)&(cat_group['new_var']==var), 'sub_sub_cat']=subcat"
   ]
  },
  {
   "cell_type": "code",
   "execution_count": 427,
   "metadata": {},
   "outputs": [],
   "source": [
    "final_metadata = cat_group.sort_values(by=['Table Name'])"
   ]
  },
  {
   "cell_type": "code",
   "execution_count": 428,
   "metadata": {},
   "outputs": [
    {
     "data": {
      "text/html": [
       "<div>\n",
       "<style scoped>\n",
       "    .dataframe tbody tr th:only-of-type {\n",
       "        vertical-align: middle;\n",
       "    }\n",
       "\n",
       "    .dataframe tbody tr th {\n",
       "        vertical-align: top;\n",
       "    }\n",
       "\n",
       "    .dataframe thead th {\n",
       "        text-align: right;\n",
       "    }\n",
       "</style>\n",
       "<table border=\"1\" class=\"dataframe\">\n",
       "  <thead>\n",
       "    <tr style=\"text-align: right;\">\n",
       "      <th></th>\n",
       "      <th>Category</th>\n",
       "      <th>Table Name</th>\n",
       "      <th>new_var</th>\n",
       "      <th>cat</th>\n",
       "      <th>sub_cat</th>\n",
       "      <th>sub_sub_cat</th>\n",
       "    </tr>\n",
       "  </thead>\n",
       "  <tbody>\n",
       "    <tr>\n",
       "      <th>8</th>\n",
       "      <td>Energy Efficiency</td>\n",
       "      <td>Table 29</td>\n",
       "      <td>Energy saving</td>\n",
       "      <td>[Buildings, Buildings, Buildings, Buildings]</td>\n",
       "      <td>None</td>\n",
       "      <td>None</td>\n",
       "    </tr>\n",
       "  </tbody>\n",
       "</table>\n",
       "</div>"
      ],
      "text/plain": [
       "            Category Table Name        new_var  \\\n",
       "8  Energy Efficiency   Table 29  Energy saving   \n",
       "\n",
       "                                            cat sub_cat sub_sub_cat  \n",
       "8  [Buildings, Buildings, Buildings, Buildings]    None        None  "
      ]
     },
     "execution_count": 428,
     "metadata": {},
     "output_type": "execute_result"
    }
   ],
   "source": [
    "final_metadata.loc[final_metadata['Table Name']=='Table 29']"
   ]
  },
  {
   "cell_type": "code",
   "execution_count": 383,
   "metadata": {},
   "outputs": [],
   "source": [
    "final_metadata.to_csv('new_metadata.csv', index=False)"
   ]
  },
  {
   "cell_type": "code",
   "execution_count": null,
   "metadata": {},
   "outputs": [],
   "source": []
  },
  {
   "cell_type": "code",
   "execution_count": null,
   "metadata": {},
   "outputs": [],
   "source": []
  }
 ],
 "metadata": {
  "kernelspec": {
   "display_name": "Python 3",
   "language": "python",
   "name": "python3"
  },
  "language_info": {
   "codemirror_mode": {
    "name": "ipython",
    "version": 3
   },
   "file_extension": ".py",
   "mimetype": "text/x-python",
   "name": "python",
   "nbconvert_exporter": "python",
   "pygments_lexer": "ipython3",
   "version": "3.8.2"
  }
 },
 "nbformat": 4,
 "nbformat_minor": 4
}
