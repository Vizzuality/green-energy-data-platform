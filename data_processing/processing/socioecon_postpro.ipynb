{
 "cells": [
  {
   "cell_type": "code",
   "execution_count": 1,
   "id": "numeric-lighter",
   "metadata": {},
   "outputs": [],
   "source": [
    "import pandas as pd\n",
    "from google_trans_new import google_translator\n",
    "translator = google_translator()  "
   ]
  },
  {
   "cell_type": "code",
   "execution_count": null,
   "id": "exempt-cruise",
   "metadata": {},
   "outputs": [],
   "source": []
  },
  {
   "cell_type": "code",
   "execution_count": 46,
   "id": "express-chick",
   "metadata": {},
   "outputs": [],
   "source": [
    "socioecon = pd.read_csv('../data/Socio-economic Data/socioecon_clean.csv')"
   ]
  },
  {
   "cell_type": "markdown",
   "id": "unsigned-philip",
   "metadata": {},
   "source": [
    "### Re-arrange some indicators"
   ]
  },
  {
   "cell_type": "code",
   "execution_count": 47,
   "id": "detailed-cherry",
   "metadata": {},
   "outputs": [
    {
     "data": {
      "text/plain": [
       "Index(['file_name', 'table_name', 'indicator', 'category_1', 'category_2',\n",
       "       'category_3', 'Region', 'region_type', 'Year', 'value', 'units'],\n",
       "      dtype='object')"
      ]
     },
     "execution_count": 47,
     "metadata": {},
     "output_type": "execute_result"
    }
   ],
   "source": [
    "socioecon.keys()"
   ]
  },
  {
   "cell_type": "code",
   "execution_count": null,
   "id": "prepared-yield",
   "metadata": {},
   "outputs": [],
   "source": [
    " "
   ]
  },
  {
   "cell_type": "code",
   "execution_count": 48,
   "id": "reduced-wesley",
   "metadata": {},
   "outputs": [],
   "source": [
    "socioecon.replace({'indicator': {'Reservoirs': 'Number of Reservoirs'}, 'category_1': {'Number of Reservoirs  (unit)': 'Total'}}, inplace=True)\n",
    "socioecon.loc[(socioecon['indicator']=='Capacity of Reservoirs')&(socioecon['category_1']=='Total'), 'units'] = '100m m3'\n",
    "socioecon.loc[(socioecon['indicator']=='Capacity of Reservoirs')&(socioecon['category_1']=='Total'), 'units'] = '100m m3'"
   ]
  },
  {
   "cell_type": "code",
   "execution_count": 49,
   "id": "gross-closer",
   "metadata": {},
   "outputs": [],
   "source": [
    "socioecon.drop(socioecon.loc[(socioecon['indicator']=='Employment')&(socioecon['category_1']=='Terciary Industry')].index, inplace=True)\n",
    "socioecon.loc[(socioecon['indicator']=='Employed persons')&(socioecon['category_1']=='Industry breakdown'), 'indicator'] = 'Employed persons (Industry breakdown)'\n",
    "socioecon.loc[(socioecon['indicator']=='Employed persons')&(socioecon['category_1']=='Urban/Rural breakdown'), 'indicator'] = 'Employed persons (Urban/Rural breakdown)'\n",
    "socioecon.loc[(socioecon['file_name']=='Employment_就业')&(socioecon['indicator']=='Employed People'), 'indicator'] = 'Employed People in urban areas'\n",
    "for item in ['Employed persons (Industry breakdown)', 'Employed persons (Urban/Rural breakdown)', 'Employed People in urban areas']:\n",
    "    socioecon.loc[socioecon['indicator']==item, 'category_1'] = socioecon.loc[socioecon['indicator']==item]['category_2']\n",
    "    socioecon.loc[socioecon['indicator']==item, 'category_2'] = socioecon.loc[socioecon['indicator']==item]['category_3']\n",
    "    socioecon.loc[socioecon['indicator']==item, 'category_3'] = None"
   ]
  },
  {
   "cell_type": "code",
   "execution_count": 50,
   "id": "original-crossing",
   "metadata": {},
   "outputs": [],
   "source": [
    "summary_socio = socioecon.groupby(['file_name', 'indicator', 'category_1', 'category_2',\n",
    "       'category_3'], sort=False, as_index=False, dropna=False).size()"
   ]
  },
  {
   "cell_type": "code",
   "execution_count": 51,
   "id": "proud-newton",
   "metadata": {},
   "outputs": [],
   "source": [
    "for indicator in ['GDP', 'GDP (constant price)', 'GDP (compared to 1978)', 'GDP (main contributors to increase)', 'GDP (main contributors to growth)', 'GRP',\n",
    "                 'GRP (compared to preceding year)']:\n",
    "    nindicator = indicator.replace('GDP', 'Gross Domestic Product').replace('GRP', 'Gross Regional Product')\n",
    "    for item in ['Industry breakdown', 'Sector']:\n",
    "            socioecon.loc[(socioecon['file_name']=='GDP_国内生产总值')&(socioecon['indicator']==indicator)& (socioecon['category_1']==item), 'indicator'] = f'{nindicator} ({item})'\n",
    "            socioecon.loc[socioecon['indicator']==f'{nindicator} ({item})', 'category_1'] = socioecon.loc[socioecon['indicator']==f'{nindicator} ({item})']['category_2']\n",
    "            socioecon.loc[socioecon['indicator']==f'{nindicator} ({item})', 'category_2'] = socioecon.loc[socioecon['indicator']==f'{nindicator} ({item})']['category_3']\n",
    "            socioecon.loc[socioecon['indicator']==f'{nindicator} ({item})', 'category_3'] = None\n",
    "socioecon.drop(socioecon.loc[(socioecon['file_name']=='GDP_国内生产总值')&(socioecon['indicator']==indicator)].index, inplace=True)"
   ]
  },
  {
   "cell_type": "code",
   "execution_count": 52,
   "id": "running-danish",
   "metadata": {},
   "outputs": [],
   "source": [
    "for item in ['By Gender', 'By Residence']:\n",
    "    socioecon.loc[(socioecon['file_name']=='Population_人口')&(socioecon['indicator']=='Population')& (socioecon['category_1']==item), 'indicator'] = f'Population ({item})'\n",
    "    socioecon.loc[socioecon['indicator']==f'Population ({item})', 'category_1'] = socioecon.loc[socioecon['indicator']==f'Population ({item})']['category_2']\n",
    "    socioecon.loc[socioecon['indicator']==f'Population ({item})', 'category_2'] = socioecon.loc[socioecon['indicator']==f'Population ({item})']['category_3']\n",
    "    socioecon.loc[socioecon['indicator']==f'Population ({item})', 'category_3'] = None\n",
    "\n",
    "socioecon.loc[socioecon['indicator']=='Dependency Rate', 'category_1'] = socioecon.loc[socioecon['indicator']=='Dependency Rate']['category_2']\n",
    "socioecon.loc[socioecon['indicator']=='Dependency Rate', 'category_2'] = socioecon.loc[socioecon['indicator']=='Dependency Rate']['category_3']\n",
    "socioecon.loc[socioecon['indicator']=='Dependency Rate', 'category_3'] = None"
   ]
  },
  {
   "cell_type": "code",
   "execution_count": 53,
   "id": "bigger-filing",
   "metadata": {},
   "outputs": [
    {
     "data": {
      "text/plain": [
       "array(['Length of Railways in Operation', 'Length of Highways',\n",
       "       'Length of Navigable Inland Waterways',\n",
       "       'Length of Regular Civil Aviation Routes',\n",
       "       'Length of Petroleum and Gas Pipelines', 'Passenger Traffic',\n",
       "       'Passenger Traffic per kilometer', 'Freight Traffic',\n",
       "       'Travel Distance per passenger',\n",
       "       'Average Freight Transport Distance',\n",
       "       'Highspeed Railway in Operation', 'Highspeed Passenger Traffic',\n",
       "       'Civil Vehicles', 'Private Vehicles', 'Air Passenger Traffic',\n",
       "       'Air Freight Traffic', 'Total Air Traffic',\n",
       "       'Flying Time of General Aviation'], dtype=object)"
      ]
     },
     "execution_count": 53,
     "metadata": {},
     "output_type": "execute_result"
    }
   ],
   "source": [
    "ie_inds = summary_socio[summary_socio['file_name']==summary_socio['file_name'].unique()[9]]['indicator'].unique()\n",
    "ie_inds"
   ]
  },
  {
   "cell_type": "code",
   "execution_count": 54,
   "id": "innocent-socket",
   "metadata": {},
   "outputs": [],
   "source": [
    "socioecon.loc[(socioecon['indicator']=='Civil Vehicles')&((socioecon['category_1']=='Motor Drivers')), 'indicator'] = 'Motor Drivers'\n",
    "socioecon.loc[socioecon['indicator']=='Motor Drivers', 'category_1'] = socioecon.loc[socioecon['indicator']=='Motor Drivers']['category_2']\n",
    "socioecon.loc[socioecon['indicator']=='Motor Drivers', 'category_2'] = None\n",
    "socioecon.loc[socioecon['indicator']=='Motor Drivers', 'category_3'] = None"
   ]
  },
  {
   "cell_type": "code",
   "execution_count": null,
   "id": "absolute-touch",
   "metadata": {},
   "outputs": [],
   "source": []
  },
  {
   "cell_type": "markdown",
   "id": "casual-donna",
   "metadata": {},
   "source": [
    "### Fix namings and regions"
   ]
  },
  {
   "cell_type": "code",
   "execution_count": 55,
   "id": "revised-elevation",
   "metadata": {},
   "outputs": [],
   "source": [
    "cat_dict = {'Number of Irrigated Areas over 10 000 Mu (set)': 'Number of Irrigated Areas over 10 000 Mu',\n",
    "           'Effective Irrigated Area (10 000 hectares)': '10 000 hectares',\n",
    "           'Number of Reservoirs (unit)': 'Total',\n",
    "           'Capacity of Reservoirs (100 million cu.m)': 'Total',\n",
    "           'Final Consumption Rate (%)': 'Final Consumption Rate',\n",
    "           'Capital Formation Rate (%)': 'Capital Formation Rate',\n",
    "           'Commodities and Transactions not classified elsewhere   in the SITC': 'Commodities and Transactions not classified elsewhere in the SITC',\n",
    "           'Aquatic and Seawater Products(10 000 tons)': 'Aquatic and Seawater Products',\n",
    "           'Synthetic Fibers Suitable for Spinning(10 000 tons)': 'Synthetic Fibers Suitable for Spinning',\n",
    "           'Manganese Ores and Concentrates(10 000 tons)': 'Manganese Ores and Concentrates',\n",
    "           'Chromium Ores and Concentrates(10 000 tons)': 'Chromium Ores and Concentrates',\n",
    "           'Xerox and Hectograph Printing Equipment(10 000 sets)': 'Xerox and Hectograph Printing Equipment'}\n",
    "socioecon.replace({'category_1': cat_dict}, inplace=True)"
   ]
  },
  {
   "cell_type": "code",
   "execution_count": 56,
   "id": "assigned-sociology",
   "metadata": {},
   "outputs": [],
   "source": [
    "socioecon.drop(socioecon.loc[(socioecon['Region']=='a) Since 1980, the difference between the Gross Domestic Product and the Gross National Income (formerly, the Gross National Product) is the ')].index, inplace=True)\n",
    "socioecon.drop(socioecon.loc[(socioecon['Region']=='    net income of primary distribution from the rest of the world.')].index, inplace=True)"
   ]
  },
  {
   "cell_type": "code",
   "execution_count": 57,
   "id": "departmental-syntax",
   "metadata": {},
   "outputs": [],
   "source": [
    "#fix spaces in region names\n",
    "reg_dict = {}\n",
    "for item in list(socioecon['Region'].unique()):\n",
    "    try:\n",
    "        new_label = re.sub(\"\\s\\s+\", \" \", item)\n",
    "        if new_label[0] == ' ':\n",
    "            new_label = new_label[1:]\n",
    "        if new_label[-1] == ' ':\n",
    "            new_label = new_label[:-1]\n",
    "        if item != new_label:\n",
    "            reg_dict[item] = new_label\n",
    "    except:\n",
    "        pass\n",
    "\n",
    "socioecon.replace({'Region':reg_dict}, inplace=True)"
   ]
  },
  {
   "cell_type": "code",
   "execution_count": 58,
   "id": "oriental-immunology",
   "metadata": {},
   "outputs": [
    {
     "name": "stdout",
     "output_type": "stream",
     "text": [
      "16403\n",
      "16123\n"
     ]
    }
   ],
   "source": [
    "#drop rows where value = 'nan'\n",
    "print(len(socioecon))\n",
    "socioecon.dropna(subset=['value'], inplace=True)\n",
    "print(len(socioecon))"
   ]
  },
  {
   "cell_type": "code",
   "execution_count": null,
   "id": "rocky-registrar",
   "metadata": {},
   "outputs": [],
   "source": []
  },
  {
   "cell_type": "markdown",
   "id": "collaborative-bermuda",
   "metadata": {},
   "source": [
    "### rename columns and include string translations"
   ]
  },
  {
   "cell_type": "code",
   "execution_count": 59,
   "id": "caring-comparative",
   "metadata": {},
   "outputs": [],
   "source": [
    "ren_dict = {'file_name': 'subgroup_en', 'Year': 'year'}\n",
    "for item in socioecon.keys()[2:]:\n",
    "    if item not in ['Year', 'region_type', 'value']:\n",
    "        ren_dict[item] = f'{item.lower()}_en'\n",
    "socioecon.rename(columns=ren_dict, inplace=True)\n",
    "socioecon.drop(columns=['table_name'], inplace=True)"
   ]
  },
  {
   "cell_type": "code",
   "execution_count": null,
   "id": "difficult-township",
   "metadata": {},
   "outputs": [],
   "source": [
    "socioecon['indicator_en'].replace({'GDP': 'Gross Domestic Product',\n",
    "                                   'GNI': 'Gross National Income'}, regex=True, inplace=True)"
   ]
  },
  {
   "cell_type": "code",
   "execution_count": 60,
   "id": "radio-click",
   "metadata": {},
   "outputs": [],
   "source": [
    "socioecon['subgroup_cn'] = [x.split('_')[1] for x in socioecon['subgroup_en']]\n",
    "socioecon['subgroup_en'] = [x.split('_')[0] for x in socioecon['subgroup_en']]\n",
    "socioecon['group_en'] = 'Socioeconomic'\n",
    "socioecon['group_cn'] = '社会经济'"
   ]
  },
  {
   "cell_type": "code",
   "execution_count": 117,
   "id": "quantitative-flash",
   "metadata": {},
   "outputs": [],
   "source": [
    "inds = ''\n",
    "for x in socioecon['indicator_en'].unique():\n",
    "    inds += f'. {x}'\n",
    "translated = translator.translate(inds,lang_tgt='zh-cn') "
   ]
  },
  {
   "cell_type": "code",
   "execution_count": 118,
   "id": "absent-reconstruction",
   "metadata": {},
   "outputs": [],
   "source": [
    "ind_dict = {}\n",
    "for en, cn in zip(inds.split('. ')[1:], translated.split('。')[1:]):\n",
    "    ind_dict[en] = cn"
   ]
  },
  {
   "cell_type": "code",
   "execution_count": 121,
   "id": "married-semiconductor",
   "metadata": {},
   "outputs": [],
   "source": [
    "socioecon['indicator_cn'] = socioecon['indicator_en']\n",
    "socioecon['indicator_cn'].replace(ind_dict, inplace=True)"
   ]
  },
  {
   "cell_type": "code",
   "execution_count": 126,
   "id": "promotional-brooklyn",
   "metadata": {},
   "outputs": [],
   "source": [
    "for field in range(1,4):\n",
    "    labels = ''\n",
    "    for x in socioecon[f'category_{field}_en'].unique():\n",
    "        labels += f'. {x}'\n",
    "    translated = translator.translate(labels,lang_tgt='zh-cn')\n",
    "    lab_dict = {}\n",
    "    for en, cn in zip(labels.split('. ')[1:], translated.split('。')[1:]):\n",
    "        lab_dict[en] = cn\n",
    "    socioecon[f'category_{field}_cn'] = socioecon[f'category_{field}_en']\n",
    "    socioecon[f'category_{field}_cn'].replace(ind_dict, inplace=True)"
   ]
  },
  {
   "cell_type": "code",
   "execution_count": 129,
   "id": "median-roots",
   "metadata": {},
   "outputs": [],
   "source": [
    "for field in ['units', 'region']:\n",
    "    labels = ''\n",
    "    for x in socioecon[f'{field}_en'].unique():\n",
    "        labels += f'. {x}'\n",
    "    translated = translator.translate(labels,lang_tgt='zh-cn')\n",
    "    lab_dict = {}\n",
    "    for en, cn in zip(labels.split('. ')[1:], translated.split('。')[1:]):\n",
    "        lab_dict[en] = cn\n",
    "    socioecon[f'{field}_cn'] = socioecon[f'{field}_en']\n",
    "    socioecon[f'{field}_cn'].replace(ind_dict, inplace=True)"
   ]
  },
  {
   "cell_type": "code",
   "execution_count": 132,
   "id": "happy-relaxation",
   "metadata": {},
   "outputs": [],
   "source": [
    "socioecon = socioecon[['group_en', 'group_cn', 'subgroup_en', 'subgroup_cn',\n",
    "                      'indicator_en', 'indicator_cn',\n",
    "                       'category_1_en', 'category_1_cn',\n",
    "                       'category_2_en', 'category_2_cn',\n",
    "                       'category_3_en','category_3_cn',\n",
    "                       'region_en', 'region_cn', 'region_type',\n",
    "                      'year', 'value', 'units_en', 'units_cn']]"
   ]
  },
  {
   "cell_type": "code",
   "execution_count": null,
   "id": "numeric-fence",
   "metadata": {},
   "outputs": [],
   "source": []
  },
  {
   "cell_type": "markdown",
   "id": "occasional-europe",
   "metadata": {},
   "source": [
    "### fixing totals"
   ]
  },
  {
   "cell_type": "code",
   "execution_count": 189,
   "id": "instrumental-equality",
   "metadata": {},
   "outputs": [],
   "source": [
    "total_inds = []\n",
    "for indicator in socioecon['indicator'].unique():\n",
    "    if len(socioecon[socioecon['indicator']==indicator]['category_1'].unique()) > 1 and 'Total' in socioecon[socioecon['indicator']==indicator]['category_1'].unique():\n",
    "        total_inds.append(indicator)"
   ]
  },
  {
   "cell_type": "code",
   "execution_count": 190,
   "id": "peripheral-connectivity",
   "metadata": {},
   "outputs": [],
   "source": [
    "df = socioecon[socioecon['indicator']==total_inds[0]]\n",
    "a = df.groupby('category_1').sum()"
   ]
  },
  {
   "cell_type": "code",
   "execution_count": 193,
   "id": "increased-congo",
   "metadata": {},
   "outputs": [
    {
     "data": {
      "text/plain": [
       "['Consumption of Chemical Fertilizers',\n",
       " 'Number of Reservoirs',\n",
       " 'Capacity of Reservoirs',\n",
       " 'Building Floorspace',\n",
       " 'Employment',\n",
       " 'Employed People in urban areas',\n",
       " 'International Trade of Goods',\n",
       " 'Exports by SITC',\n",
       " 'Imports by SITC',\n",
       " 'International Trade (by region)',\n",
       " 'Length of Railways in Operation',\n",
       " 'Length of Highways',\n",
       " 'Length of Regular Civil Aviation Routes',\n",
       " 'Passenger Traffic',\n",
       " 'Passenger Traffic per kilometer',\n",
       " 'Freight Traffic',\n",
       " 'Travel Distance per passenger',\n",
       " 'Average Freight Transport Distance',\n",
       " 'Civil Vehicles',\n",
       " 'Motor Drivers',\n",
       " 'Private Vehicles',\n",
       " 'Air Passenger Traffic',\n",
       " 'Air Freight Traffic',\n",
       " 'Total Air Traffic',\n",
       " 'Flying Time of General Aviation']"
      ]
     },
     "execution_count": 193,
     "metadata": {},
     "output_type": "execute_result"
    }
   ],
   "source": [
    "total_inds"
   ]
  },
  {
   "cell_type": "code",
   "execution_count": 199,
   "id": "voluntary-clearance",
   "metadata": {},
   "outputs": [
    {
     "data": {
      "text/plain": [
       "array(['Total', 'Primary Industry', 'Secondary Industry',\n",
       "       'Tertiary Industry', 'Urban', 'Rural'], dtype=object)"
      ]
     },
     "execution_count": 199,
     "metadata": {},
     "output_type": "execute_result"
    }
   ],
   "source": [
    "socioecon[socioecon['indicator']=='Employment']['category_1'].unique()"
   ]
  },
  {
   "cell_type": "code",
   "execution_count": 264,
   "id": "super-pharmacy",
   "metadata": {},
   "outputs": [
    {
     "data": {
      "text/html": [
       "<div>\n",
       "<style scoped>\n",
       "    .dataframe tbody tr th:only-of-type {\n",
       "        vertical-align: middle;\n",
       "    }\n",
       "\n",
       "    .dataframe tbody tr th {\n",
       "        vertical-align: top;\n",
       "    }\n",
       "\n",
       "    .dataframe thead th {\n",
       "        text-align: right;\n",
       "    }\n",
       "</style>\n",
       "<table border=\"1\" class=\"dataframe\">\n",
       "  <thead>\n",
       "    <tr style=\"text-align: right;\">\n",
       "      <th></th>\n",
       "      <th>file_name</th>\n",
       "      <th>table_name</th>\n",
       "      <th>indicator</th>\n",
       "      <th>category_1</th>\n",
       "      <th>category_2</th>\n",
       "      <th>category_3</th>\n",
       "      <th>Region</th>\n",
       "      <th>region_type</th>\n",
       "      <th>Year</th>\n",
       "      <th>value</th>\n",
       "      <th>units</th>\n",
       "    </tr>\n",
       "  </thead>\n",
       "  <tbody>\n",
       "    <tr>\n",
       "      <th>934</th>\n",
       "      <td>Employment_就业</td>\n",
       "      <td>4-2  Number of Employed Persons</td>\n",
       "      <td>Employment</td>\n",
       "      <td>Total</td>\n",
       "      <td>NaN</td>\n",
       "      <td>NaN</td>\n",
       "      <td>China</td>\n",
       "      <td>Country</td>\n",
       "      <td>1952.0</td>\n",
       "      <td>20729.000000</td>\n",
       "      <td>10 000 persons</td>\n",
       "    </tr>\n",
       "    <tr>\n",
       "      <th>935</th>\n",
       "      <td>Employment_就业</td>\n",
       "      <td>4-2  Number of Employed Persons</td>\n",
       "      <td>Employment</td>\n",
       "      <td>Total</td>\n",
       "      <td>NaN</td>\n",
       "      <td>NaN</td>\n",
       "      <td>China</td>\n",
       "      <td>Country</td>\n",
       "      <td>1957.0</td>\n",
       "      <td>23771.000000</td>\n",
       "      <td>10 000 persons</td>\n",
       "    </tr>\n",
       "    <tr>\n",
       "      <th>936</th>\n",
       "      <td>Employment_就业</td>\n",
       "      <td>4-2  Number of Employed Persons</td>\n",
       "      <td>Employment</td>\n",
       "      <td>Total</td>\n",
       "      <td>NaN</td>\n",
       "      <td>NaN</td>\n",
       "      <td>China</td>\n",
       "      <td>Country</td>\n",
       "      <td>1962.0</td>\n",
       "      <td>25910.000000</td>\n",
       "      <td>10 000 persons</td>\n",
       "    </tr>\n",
       "    <tr>\n",
       "      <th>937</th>\n",
       "      <td>Employment_就业</td>\n",
       "      <td>4-2  Number of Employed Persons</td>\n",
       "      <td>Employment</td>\n",
       "      <td>Total</td>\n",
       "      <td>NaN</td>\n",
       "      <td>NaN</td>\n",
       "      <td>China</td>\n",
       "      <td>Country</td>\n",
       "      <td>1965.0</td>\n",
       "      <td>28670.000000</td>\n",
       "      <td>10 000 persons</td>\n",
       "    </tr>\n",
       "    <tr>\n",
       "      <th>938</th>\n",
       "      <td>Employment_就业</td>\n",
       "      <td>4-2  Number of Employed Persons</td>\n",
       "      <td>Employment</td>\n",
       "      <td>Total</td>\n",
       "      <td>NaN</td>\n",
       "      <td>NaN</td>\n",
       "      <td>China</td>\n",
       "      <td>Country</td>\n",
       "      <td>1970.0</td>\n",
       "      <td>34432.000000</td>\n",
       "      <td>10 000 persons</td>\n",
       "    </tr>\n",
       "    <tr>\n",
       "      <th>...</th>\n",
       "      <td>...</td>\n",
       "      <td>...</td>\n",
       "      <td>...</td>\n",
       "      <td>...</td>\n",
       "      <td>...</td>\n",
       "      <td>...</td>\n",
       "      <td>...</td>\n",
       "      <td>...</td>\n",
       "      <td>...</td>\n",
       "      <td>...</td>\n",
       "      <td>...</td>\n",
       "    </tr>\n",
       "    <tr>\n",
       "      <th>1821</th>\n",
       "      <td>Employment_就业</td>\n",
       "      <td>1-14  分城乡就业人员年末人数</td>\n",
       "      <td>Employment</td>\n",
       "      <td>Rural</td>\n",
       "      <td>NaN</td>\n",
       "      <td>NaN</td>\n",
       "      <td>China</td>\n",
       "      <td>Country</td>\n",
       "      <td>2014.0</td>\n",
       "      <td>49.100000</td>\n",
       "      <td>Percentage</td>\n",
       "    </tr>\n",
       "    <tr>\n",
       "      <th>1822</th>\n",
       "      <td>Employment_就业</td>\n",
       "      <td>1-14  分城乡就业人员年末人数</td>\n",
       "      <td>Employment</td>\n",
       "      <td>Rural</td>\n",
       "      <td>NaN</td>\n",
       "      <td>NaN</td>\n",
       "      <td>China</td>\n",
       "      <td>Country</td>\n",
       "      <td>2015.0</td>\n",
       "      <td>47.800000</td>\n",
       "      <td>Percentage</td>\n",
       "    </tr>\n",
       "    <tr>\n",
       "      <th>1823</th>\n",
       "      <td>Employment_就业</td>\n",
       "      <td>1-14  分城乡就业人员年末人数</td>\n",
       "      <td>Employment</td>\n",
       "      <td>Rural</td>\n",
       "      <td>NaN</td>\n",
       "      <td>NaN</td>\n",
       "      <td>China</td>\n",
       "      <td>Country</td>\n",
       "      <td>2016.0</td>\n",
       "      <td>46.615466</td>\n",
       "      <td>Percentage</td>\n",
       "    </tr>\n",
       "    <tr>\n",
       "      <th>1824</th>\n",
       "      <td>Employment_就业</td>\n",
       "      <td>1-14  分城乡就业人员年末人数</td>\n",
       "      <td>Employment</td>\n",
       "      <td>Rural</td>\n",
       "      <td>NaN</td>\n",
       "      <td>NaN</td>\n",
       "      <td>China</td>\n",
       "      <td>Country</td>\n",
       "      <td>2017.0</td>\n",
       "      <td>45.300000</td>\n",
       "      <td>Percentage</td>\n",
       "    </tr>\n",
       "    <tr>\n",
       "      <th>1825</th>\n",
       "      <td>Employment_就业</td>\n",
       "      <td>1-14  分城乡就业人员年末人数</td>\n",
       "      <td>Employment</td>\n",
       "      <td>Rural</td>\n",
       "      <td>NaN</td>\n",
       "      <td>NaN</td>\n",
       "      <td>China</td>\n",
       "      <td>Country</td>\n",
       "      <td>2018.0</td>\n",
       "      <td>44.000000</td>\n",
       "      <td>Percentage</td>\n",
       "    </tr>\n",
       "  </tbody>\n",
       "</table>\n",
       "<p>628 rows × 11 columns</p>\n",
       "</div>"
      ],
      "text/plain": [
       "          file_name                       table_name   indicator category_1  \\\n",
       "934   Employment_就业  4-2  Number of Employed Persons  Employment      Total   \n",
       "935   Employment_就业  4-2  Number of Employed Persons  Employment      Total   \n",
       "936   Employment_就业  4-2  Number of Employed Persons  Employment      Total   \n",
       "937   Employment_就业  4-2  Number of Employed Persons  Employment      Total   \n",
       "938   Employment_就业  4-2  Number of Employed Persons  Employment      Total   \n",
       "...             ...                              ...         ...        ...   \n",
       "1821  Employment_就业                1-14  分城乡就业人员年末人数  Employment      Rural   \n",
       "1822  Employment_就业                1-14  分城乡就业人员年末人数  Employment      Rural   \n",
       "1823  Employment_就业                1-14  分城乡就业人员年末人数  Employment      Rural   \n",
       "1824  Employment_就业                1-14  分城乡就业人员年末人数  Employment      Rural   \n",
       "1825  Employment_就业                1-14  分城乡就业人员年末人数  Employment      Rural   \n",
       "\n",
       "     category_2 category_3 Region region_type    Year         value  \\\n",
       "934         NaN        NaN  China     Country  1952.0  20729.000000   \n",
       "935         NaN        NaN  China     Country  1957.0  23771.000000   \n",
       "936         NaN        NaN  China     Country  1962.0  25910.000000   \n",
       "937         NaN        NaN  China     Country  1965.0  28670.000000   \n",
       "938         NaN        NaN  China     Country  1970.0  34432.000000   \n",
       "...         ...        ...    ...         ...     ...           ...   \n",
       "1821        NaN        NaN  China     Country  2014.0     49.100000   \n",
       "1822        NaN        NaN  China     Country  2015.0     47.800000   \n",
       "1823        NaN        NaN  China     Country  2016.0     46.615466   \n",
       "1824        NaN        NaN  China     Country  2017.0     45.300000   \n",
       "1825        NaN        NaN  China     Country  2018.0     44.000000   \n",
       "\n",
       "               units  \n",
       "934   10 000 persons  \n",
       "935   10 000 persons  \n",
       "936   10 000 persons  \n",
       "937   10 000 persons  \n",
       "938   10 000 persons  \n",
       "...              ...  \n",
       "1821      Percentage  \n",
       "1822      Percentage  \n",
       "1823      Percentage  \n",
       "1824      Percentage  \n",
       "1825      Percentage  \n",
       "\n",
       "[628 rows x 11 columns]"
      ]
     },
     "execution_count": 264,
     "metadata": {},
     "output_type": "execute_result"
    }
   ],
   "source": [
    "socioecon[socioecon['indicator']=='Employment']"
   ]
  },
  {
   "cell_type": "code",
   "execution_count": 276,
   "id": "bizarre-marriage",
   "metadata": {},
   "outputs": [],
   "source": [
    "tot_df = pd.DataFrame(columns=['indicator', 'units', 'region', 'year', 'total_calc', 'total_rep'])\n",
    "for ind in total_inds:\n",
    "    try:\n",
    "        df = socioecon[socioecon['indicator']==ind]\n",
    "        for unit in df['units'].unique():\n",
    "            dfu = df[df['units']==unit]\n",
    "            for reg in dfu['Region'].unique():\n",
    "                dfur = dfu[dfu['Region']==reg]\n",
    "                for year in dfur['Year'].unique():\n",
    "                    dfury = dfur[dfur['Year']==year]\n",
    "                    dfury_g = dfury.groupby('category_1').sum()\n",
    "                    tot_dict = {'indicator': ind,\n",
    "                                'units': unit,\n",
    "                                'region': reg,\n",
    "                                'year': year,\n",
    "                                'total_calc': dfury_g['value'].sum()-dfury_g.loc['Total', 'value'], #total calculated from the sum of all categories\n",
    "                                'total_rep': dfury_g.loc['Total', 'value'] #reported total\n",
    "                               }\n",
    "                    tot_df = tot_df.append(tot_dict, ignore_index = True)\n",
    "    except:\n",
    "        pass\n",
    "\n",
    "tot_df['diff'] = ((tot_df['total_rep']-tot_df['total_calc'])*100)/tot_df['total_rep'] #difference between reported and calculated totals"
   ]
  },
  {
   "cell_type": "code",
   "execution_count": 282,
   "id": "commercial-surgeon",
   "metadata": {},
   "outputs": [
    {
     "name": "stdout",
     "output_type": "stream",
     "text": [
      "Consumption of Chemical Fertilizers not_eq\n",
      "Number of Reservoirs eq\n",
      "Capacity of Reservoirs not_eq\n",
      "Building Floorspace not_eq\n",
      "Employment eq\n",
      "Employed People in urban areas eq\n",
      "International Trade of Goods not_eq\n",
      "Exports by SITC not_eq\n",
      "Imports by SITC not_eq\n",
      "International Trade (by region) eq\n",
      "Length of Railways in Operation not_eq\n",
      "Length of Highways not_eq\n",
      "Length of Regular Civil Aviation Routes not_eq\n",
      "Passenger Traffic eq\n",
      "Passenger Traffic per kilometer eq\n",
      "Freight Traffic not_eq\n",
      "Travel Distance per passenger not_eq\n",
      "Average Freight Transport Distance not_eq\n",
      "Civil Vehicles not_eq\n",
      "Motor Drivers not_eq\n",
      "Private Vehicles not_eq\n",
      "Air Passenger Traffic not_eq\n",
      "Air Freight Traffic not_eq\n",
      "Total Air Traffic eq\n",
      "Flying Time of General Aviation not_eq\n"
     ]
    }
   ],
   "source": [
    "eq_tot = []\n",
    "not_eq_tot = []\n",
    "\n",
    "for ind in total_inds:\n",
    "    if ind not in tot_df['indicator'].unique():\n",
    "        print(ind, 'failed')\n",
    "    if ind not in tot_df[(tot_df['diff']>5)|(tot_df['diff']<-5)]['indicator'].unique():\n",
    "        print(ind, 'eq')\n",
    "        eq_tot.append(ind)\n",
    "    if ind in tot_df[(tot_df['diff']>5)|(tot_df['diff']<-5)]['indicator'].unique():\n",
    "        print(ind, 'not_eq')\n",
    "        not_eq_tot.append(ind)"
   ]
  },
  {
   "cell_type": "code",
   "execution_count": 1,
   "id": "ready-jonathan",
   "metadata": {},
   "outputs": [
    {
     "ename": "NameError",
     "evalue": "name 'not_eq_tot' is not defined",
     "output_type": "error",
     "traceback": [
      "\u001b[0;31m---------------------------------------------------------------------------\u001b[0m",
      "\u001b[0;31mNameError\u001b[0m                                 Traceback (most recent call last)",
      "\u001b[0;32m<ipython-input-1-c8fae0e8a718>\u001b[0m in \u001b[0;36m<module>\u001b[0;34m\u001b[0m\n\u001b[0;32m----> 1\u001b[0;31m \u001b[0;32mfor\u001b[0m \u001b[0mind\u001b[0m \u001b[0;32min\u001b[0m \u001b[0mnot_eq_tot\u001b[0m\u001b[0;34m:\u001b[0m\u001b[0;34m\u001b[0m\u001b[0;34m\u001b[0m\u001b[0m\n\u001b[0m\u001b[1;32m      2\u001b[0m     \u001b[0mprint\u001b[0m\u001b[0;34m(\u001b[0m\u001b[0mind\u001b[0m\u001b[0;34m,\u001b[0m \u001b[0mtot_df\u001b[0m\u001b[0;34m[\u001b[0m\u001b[0mtot_df\u001b[0m\u001b[0;34m[\u001b[0m\u001b[0;34m'indicator'\u001b[0m\u001b[0;34m]\u001b[0m\u001b[0;34m==\u001b[0m\u001b[0mind\u001b[0m\u001b[0;34m]\u001b[0m\u001b[0;34m[\u001b[0m\u001b[0;34m'diff'\u001b[0m\u001b[0;34m]\u001b[0m\u001b[0;34m.\u001b[0m\u001b[0mmax\u001b[0m\u001b[0;34m(\u001b[0m\u001b[0;34m)\u001b[0m\u001b[0;34m,\u001b[0m \u001b[0mtot_df\u001b[0m\u001b[0;34m[\u001b[0m\u001b[0mtot_df\u001b[0m\u001b[0;34m[\u001b[0m\u001b[0;34m'indicator'\u001b[0m\u001b[0;34m]\u001b[0m\u001b[0;34m==\u001b[0m\u001b[0mind\u001b[0m\u001b[0;34m]\u001b[0m\u001b[0;34m[\u001b[0m\u001b[0;34m'diff'\u001b[0m\u001b[0;34m]\u001b[0m\u001b[0;34m.\u001b[0m\u001b[0mmin\u001b[0m\u001b[0;34m(\u001b[0m\u001b[0;34m)\u001b[0m\u001b[0;34m)\u001b[0m\u001b[0;34m\u001b[0m\u001b[0;34m\u001b[0m\u001b[0m\n",
      "\u001b[0;31mNameError\u001b[0m: name 'not_eq_tot' is not defined"
     ]
    }
   ],
   "source": [
    "for ind in not_eq_tot:\n",
    "    print(ind, tot_df[tot_df['indicator']==ind]['diff'].max(), tot_df[tot_df['indicator']==ind]['diff'].min())"
   ]
  },
  {
   "cell_type": "code",
   "execution_count": 287,
   "id": "original-satellite",
   "metadata": {},
   "outputs": [
    {
     "data": {
      "text/html": [
       "<div>\n",
       "<style scoped>\n",
       "    .dataframe tbody tr th:only-of-type {\n",
       "        vertical-align: middle;\n",
       "    }\n",
       "\n",
       "    .dataframe tbody tr th {\n",
       "        vertical-align: top;\n",
       "    }\n",
       "\n",
       "    .dataframe thead th {\n",
       "        text-align: right;\n",
       "    }\n",
       "</style>\n",
       "<table border=\"1\" class=\"dataframe\">\n",
       "  <thead>\n",
       "    <tr style=\"text-align: right;\">\n",
       "      <th></th>\n",
       "      <th>indicator</th>\n",
       "      <th>units</th>\n",
       "      <th>region</th>\n",
       "      <th>year</th>\n",
       "      <th>total_calc</th>\n",
       "      <th>total_rep</th>\n",
       "      <th>diff</th>\n",
       "    </tr>\n",
       "  </thead>\n",
       "  <tbody>\n",
       "    <tr>\n",
       "      <th>1214</th>\n",
       "      <td>Air Passenger Traffic</td>\n",
       "      <td>10 000 persons</td>\n",
       "      <td>China</td>\n",
       "      <td>1990.0</td>\n",
       "      <td>1.660000e+03</td>\n",
       "      <td>1.660000e+03</td>\n",
       "      <td>0.000000</td>\n",
       "    </tr>\n",
       "    <tr>\n",
       "      <th>1215</th>\n",
       "      <td>Air Passenger Traffic</td>\n",
       "      <td>10 000 persons</td>\n",
       "      <td>China</td>\n",
       "      <td>2000.0</td>\n",
       "      <td>7.125041e+03</td>\n",
       "      <td>6.721660e+03</td>\n",
       "      <td>-6.001207</td>\n",
       "    </tr>\n",
       "    <tr>\n",
       "      <th>1216</th>\n",
       "      <td>Air Passenger Traffic</td>\n",
       "      <td>10 000 persons</td>\n",
       "      <td>China</td>\n",
       "      <td>2010.0</td>\n",
       "      <td>2.744152e+04</td>\n",
       "      <td>2.676914e+04</td>\n",
       "      <td>-2.511750</td>\n",
       "    </tr>\n",
       "    <tr>\n",
       "      <th>1217</th>\n",
       "      <td>Air Passenger Traffic</td>\n",
       "      <td>10 000 persons</td>\n",
       "      <td>China</td>\n",
       "      <td>2017.0</td>\n",
       "      <td>5.618299e+04</td>\n",
       "      <td>5.515611e+04</td>\n",
       "      <td>-1.861763</td>\n",
       "    </tr>\n",
       "    <tr>\n",
       "      <th>1218</th>\n",
       "      <td>Air Passenger Traffic</td>\n",
       "      <td>10 000 persons</td>\n",
       "      <td>China</td>\n",
       "      <td>2018.0</td>\n",
       "      <td>6.230086e+04</td>\n",
       "      <td>6.117377e+04</td>\n",
       "      <td>-1.842436</td>\n",
       "    </tr>\n",
       "    <tr>\n",
       "      <th>1219</th>\n",
       "      <td>Air Passenger Traffic</td>\n",
       "      <td>10 000 persons</td>\n",
       "      <td>China</td>\n",
       "      <td>2019.0</td>\n",
       "      <td>6.710098e+04</td>\n",
       "      <td>6.599342e+04</td>\n",
       "      <td>-1.678288</td>\n",
       "    </tr>\n",
       "    <tr>\n",
       "      <th>1220</th>\n",
       "      <td>Air Passenger Traffic</td>\n",
       "      <td>10 000 persons/km</td>\n",
       "      <td>China</td>\n",
       "      <td>1990.0</td>\n",
       "      <td>2.304797e+06</td>\n",
       "      <td>2.304797e+06</td>\n",
       "      <td>0.000000</td>\n",
       "    </tr>\n",
       "    <tr>\n",
       "      <th>1221</th>\n",
       "      <td>Air Passenger Traffic</td>\n",
       "      <td>10 000 persons/km</td>\n",
       "      <td>China</td>\n",
       "      <td>2000.0</td>\n",
       "      <td>1.020784e+07</td>\n",
       "      <td>9.705437e+06</td>\n",
       "      <td>-5.176528</td>\n",
       "    </tr>\n",
       "    <tr>\n",
       "      <th>1222</th>\n",
       "      <td>Air Passenger Traffic</td>\n",
       "      <td>10 000 persons/km</td>\n",
       "      <td>China</td>\n",
       "      <td>2010.0</td>\n",
       "      <td>4.137178e+07</td>\n",
       "      <td>4.038996e+07</td>\n",
       "      <td>-2.430845</td>\n",
       "    </tr>\n",
       "    <tr>\n",
       "      <th>1223</th>\n",
       "      <td>Air Passenger Traffic</td>\n",
       "      <td>10 000 persons/km</td>\n",
       "      <td>China</td>\n",
       "      <td>2017.0</td>\n",
       "      <td>9.661284e+07</td>\n",
       "      <td>9.513036e+07</td>\n",
       "      <td>-1.558372</td>\n",
       "    </tr>\n",
       "    <tr>\n",
       "      <th>1224</th>\n",
       "      <td>Air Passenger Traffic</td>\n",
       "      <td>10 000 persons/km</td>\n",
       "      <td>China</td>\n",
       "      <td>2018.0</td>\n",
       "      <td>1.087737e+08</td>\n",
       "      <td>1.071232e+08</td>\n",
       "      <td>-1.540773</td>\n",
       "    </tr>\n",
       "    <tr>\n",
       "      <th>1225</th>\n",
       "      <td>Air Passenger Traffic</td>\n",
       "      <td>10 000 persons/km</td>\n",
       "      <td>China</td>\n",
       "      <td>2019.0</td>\n",
       "      <td>1.186576e+08</td>\n",
       "      <td>1.170530e+08</td>\n",
       "      <td>-1.370843</td>\n",
       "    </tr>\n",
       "  </tbody>\n",
       "</table>\n",
       "</div>"
      ],
      "text/plain": [
       "                  indicator              units region    year    total_calc  \\\n",
       "1214  Air Passenger Traffic     10 000 persons  China  1990.0  1.660000e+03   \n",
       "1215  Air Passenger Traffic     10 000 persons  China  2000.0  7.125041e+03   \n",
       "1216  Air Passenger Traffic     10 000 persons  China  2010.0  2.744152e+04   \n",
       "1217  Air Passenger Traffic     10 000 persons  China  2017.0  5.618299e+04   \n",
       "1218  Air Passenger Traffic     10 000 persons  China  2018.0  6.230086e+04   \n",
       "1219  Air Passenger Traffic     10 000 persons  China  2019.0  6.710098e+04   \n",
       "1220  Air Passenger Traffic  10 000 persons/km  China  1990.0  2.304797e+06   \n",
       "1221  Air Passenger Traffic  10 000 persons/km  China  2000.0  1.020784e+07   \n",
       "1222  Air Passenger Traffic  10 000 persons/km  China  2010.0  4.137178e+07   \n",
       "1223  Air Passenger Traffic  10 000 persons/km  China  2017.0  9.661284e+07   \n",
       "1224  Air Passenger Traffic  10 000 persons/km  China  2018.0  1.087737e+08   \n",
       "1225  Air Passenger Traffic  10 000 persons/km  China  2019.0  1.186576e+08   \n",
       "\n",
       "         total_rep      diff  \n",
       "1214  1.660000e+03  0.000000  \n",
       "1215  6.721660e+03 -6.001207  \n",
       "1216  2.676914e+04 -2.511750  \n",
       "1217  5.515611e+04 -1.861763  \n",
       "1218  6.117377e+04 -1.842436  \n",
       "1219  6.599342e+04 -1.678288  \n",
       "1220  2.304797e+06  0.000000  \n",
       "1221  9.705437e+06 -5.176528  \n",
       "1222  4.038996e+07 -2.430845  \n",
       "1223  9.513036e+07 -1.558372  \n",
       "1224  1.071232e+08 -1.540773  \n",
       "1225  1.170530e+08 -1.370843  "
      ]
     },
     "execution_count": 287,
     "metadata": {},
     "output_type": "execute_result"
    }
   ],
   "source": [
    "tot_df[tot_df['indicator']=='Air Passenger Traffic']"
   ]
  },
  {
   "cell_type": "code",
   "execution_count": 261,
   "id": "oriental-receipt",
   "metadata": {},
   "outputs": [
    {
     "data": {
      "text/plain": [
       "'/Users/oscaresbri/Documents/sci_team_data_bank/Projects/green-energy-data-platform/data/Socio-economic Data'"
      ]
     },
     "execution_count": 261,
     "metadata": {},
     "output_type": "execute_result"
    }
   ],
   "source": [
    "pwd"
   ]
  },
  {
   "cell_type": "code",
   "execution_count": 262,
   "id": "touched-reporter",
   "metadata": {},
   "outputs": [],
   "source": [
    "socioecon.to_csv('socioecon_cleanv2.csv', index=False)"
   ]
  }
 ],
 "metadata": {
  "kernelspec": {
   "display_name": "lmienv",
   "language": "python",
   "name": "lmienv"
  },
  "language_info": {
   "codemirror_mode": {
    "name": "ipython",
    "version": 3
   },
   "file_extension": ".py",
   "mimetype": "text/x-python",
   "name": "python",
   "nbconvert_exporter": "python",
   "pygments_lexer": "ipython3",
   "version": "3.6.13"
  }
 },
 "nbformat": 4,
 "nbformat_minor": 5
}
